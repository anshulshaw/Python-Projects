{
 "cells": [
  {
   "cell_type": "code",
   "execution_count": 92,
   "id": "db3b682e",
   "metadata": {
    "scrolled": true
   },
   "outputs": [
    {
     "data": {
      "text/html": [
       "<style type=\"text/css\">\n",
       "</style>\n",
       "<table id=\"T_f5e78\">\n",
       "  <thead>\n",
       "    <tr>\n",
       "      <th id=\"T_f5e78_level0_col0\" class=\"col_heading level0 col0\" >Menu Category</th>\n",
       "      <th id=\"T_f5e78_level0_col1\" class=\"col_heading level0 col1\" >Menu Items</th>\n",
       "      <th id=\"T_f5e78_level0_col2\" class=\"col_heading level0 col2\" >Per Serve Size</th>\n",
       "      <th id=\"T_f5e78_level0_col3\" class=\"col_heading level0 col3\" >Energy (kCal)</th>\n",
       "      <th id=\"T_f5e78_level0_col4\" class=\"col_heading level0 col4\" >Protein (g)</th>\n",
       "      <th id=\"T_f5e78_level0_col5\" class=\"col_heading level0 col5\" >Total fat (g)</th>\n",
       "      <th id=\"T_f5e78_level0_col6\" class=\"col_heading level0 col6\" >Sat Fat (g)</th>\n",
       "      <th id=\"T_f5e78_level0_col7\" class=\"col_heading level0 col7\" >Trans fat (g)</th>\n",
       "      <th id=\"T_f5e78_level0_col8\" class=\"col_heading level0 col8\" >Cholesterols (mg)</th>\n",
       "      <th id=\"T_f5e78_level0_col9\" class=\"col_heading level0 col9\" >Total carbohydrate (g)</th>\n",
       "      <th id=\"T_f5e78_level0_col10\" class=\"col_heading level0 col10\" >Total Sugars (g)</th>\n",
       "      <th id=\"T_f5e78_level0_col11\" class=\"col_heading level0 col11\" >Added Sugars (g)</th>\n",
       "      <th id=\"T_f5e78_level0_col12\" class=\"col_heading level0 col12\" >Sodium (mg)</th>\n",
       "    </tr>\n",
       "  </thead>\n",
       "  <tbody>\n",
       "    <tr>\n",
       "      <td id=\"T_f5e78_row0_col0\" class=\"data row0 col0\" >Regular Menu</td>\n",
       "      <td id=\"T_f5e78_row0_col1\" class=\"data row0 col1\" >McVeggie Burger</td>\n",
       "      <td id=\"T_f5e78_row0_col2\" class=\"data row0 col2\" >168 g</td>\n",
       "      <td id=\"T_f5e78_row0_col3\" class=\"data row0 col3\" >402.05</td>\n",
       "      <td id=\"T_f5e78_row0_col4\" class=\"data row0 col4\" >10.24</td>\n",
       "      <td id=\"T_f5e78_row0_col5\" class=\"data row0 col5\" >13.83</td>\n",
       "      <td id=\"T_f5e78_row0_col6\" class=\"data row0 col6\" >5.34</td>\n",
       "      <td id=\"T_f5e78_row0_col7\" class=\"data row0 col7\" >0.16</td>\n",
       "      <td id=\"T_f5e78_row0_col8\" class=\"data row0 col8\" >2.49</td>\n",
       "      <td id=\"T_f5e78_row0_col9\" class=\"data row0 col9\" >56.54</td>\n",
       "      <td id=\"T_f5e78_row0_col10\" class=\"data row0 col10\" >7.90</td>\n",
       "      <td id=\"T_f5e78_row0_col11\" class=\"data row0 col11\" >4.49</td>\n",
       "      <td id=\"T_f5e78_row0_col12\" class=\"data row0 col12\" >706.13</td>\n",
       "    </tr>\n",
       "    <tr>\n",
       "      <td id=\"T_f5e78_row1_col0\" class=\"data row1 col0\" >Regular Menu</td>\n",
       "      <td id=\"T_f5e78_row1_col1\" class=\"data row1 col1\" >McAloo Tikki Burger</td>\n",
       "      <td id=\"T_f5e78_row1_col2\" class=\"data row1 col2\" >146 g</td>\n",
       "      <td id=\"T_f5e78_row1_col3\" class=\"data row1 col3\" >339.52</td>\n",
       "      <td id=\"T_f5e78_row1_col4\" class=\"data row1 col4\" >8.50</td>\n",
       "      <td id=\"T_f5e78_row1_col5\" class=\"data row1 col5\" >11.31</td>\n",
       "      <td id=\"T_f5e78_row1_col6\" class=\"data row1 col6\" >4.27</td>\n",
       "      <td id=\"T_f5e78_row1_col7\" class=\"data row1 col7\" >0.20</td>\n",
       "      <td id=\"T_f5e78_row1_col8\" class=\"data row1 col8\" >1.47</td>\n",
       "      <td id=\"T_f5e78_row1_col9\" class=\"data row1 col9\" >50.27</td>\n",
       "      <td id=\"T_f5e78_row1_col10\" class=\"data row1 col10\" >7.05</td>\n",
       "      <td id=\"T_f5e78_row1_col11\" class=\"data row1 col11\" >4.07</td>\n",
       "      <td id=\"T_f5e78_row1_col12\" class=\"data row1 col12\" >545.34</td>\n",
       "    </tr>\n",
       "    <tr>\n",
       "      <td id=\"T_f5e78_row2_col0\" class=\"data row2 col0\" >Regular Menu</td>\n",
       "      <td id=\"T_f5e78_row2_col1\" class=\"data row2 col1\" >McSpicy Paneer Burger</td>\n",
       "      <td id=\"T_f5e78_row2_col2\" class=\"data row2 col2\" >199 g</td>\n",
       "      <td id=\"T_f5e78_row2_col3\" class=\"data row2 col3\" >652.76</td>\n",
       "      <td id=\"T_f5e78_row2_col4\" class=\"data row2 col4\" >20.29</td>\n",
       "      <td id=\"T_f5e78_row2_col5\" class=\"data row2 col5\" >39.45</td>\n",
       "      <td id=\"T_f5e78_row2_col6\" class=\"data row2 col6\" >17.12</td>\n",
       "      <td id=\"T_f5e78_row2_col7\" class=\"data row2 col7\" >0.18</td>\n",
       "      <td id=\"T_f5e78_row2_col8\" class=\"data row2 col8\" >21.85</td>\n",
       "      <td id=\"T_f5e78_row2_col9\" class=\"data row2 col9\" >52.33</td>\n",
       "      <td id=\"T_f5e78_row2_col10\" class=\"data row2 col10\" >8.35</td>\n",
       "      <td id=\"T_f5e78_row2_col11\" class=\"data row2 col11\" >5.27</td>\n",
       "      <td id=\"T_f5e78_row2_col12\" class=\"data row2 col12\" >1074.58</td>\n",
       "    </tr>\n",
       "  </tbody>\n",
       "</table>\n"
      ],
      "text/plain": [
       "<pandas.io.formats.style.Styler at 0x1fbb63cdd90>"
      ]
     },
     "execution_count": 92,
     "metadata": {},
     "output_type": "execute_result"
    }
   ],
   "source": [
    "import pandas as pd\n",
    "df=pd.read_csv(\"India_menu.csv\")\n",
    "df.head(3).style.hide(axis='index').format(precision=2)"
   ]
  },
  {
   "cell_type": "markdown",
   "id": "9865c9f9",
   "metadata": {},
   "source": [
    "### Top 5 Cholesterol-ridden Item"
   ]
  },
  {
   "cell_type": "code",
   "execution_count": 87,
   "id": "659ae733",
   "metadata": {
    "scrolled": true
   },
   "outputs": [
    {
     "data": {
      "text/html": [
       "<style type=\"text/css\">\n",
       "</style>\n",
       "<table id=\"T_bd76f\">\n",
       "  <thead>\n",
       "    <tr>\n",
       "      <th id=\"T_bd76f_level0_col0\" class=\"col_heading level0 col0\" >Menu Items</th>\n",
       "      <th id=\"T_bd76f_level0_col1\" class=\"col_heading level0 col1\" >Cholesterols (mg)</th>\n",
       "    </tr>\n",
       "  </thead>\n",
       "  <tbody>\n",
       "    <tr>\n",
       "      <td id=\"T_bd76f_row0_col0\" class=\"data row0 col0\" >McSpicy Premium Chicken Burger</td>\n",
       "      <td id=\"T_bd76f_row0_col1\" class=\"data row0 col1\" >302.61</td>\n",
       "    </tr>\n",
       "    <tr>\n",
       "      <td id=\"T_bd76f_row1_col0\" class=\"data row1 col0\" >Sausage Mc Muffin with egg</td>\n",
       "      <td id=\"T_bd76f_row1_col1\" class=\"data row1 col1\" >264.80</td>\n",
       "    </tr>\n",
       "    <tr>\n",
       "      <td id=\"T_bd76f_row2_col0\" class=\"data row2 col0\" >Egg McMuffin</td>\n",
       "      <td id=\"T_bd76f_row2_col1\" class=\"data row2 col1\" >233.30</td>\n",
       "    </tr>\n",
       "    <tr>\n",
       "      <td id=\"T_bd76f_row3_col0\" class=\"data row3 col0\" >Mc Egg Masala Burger</td>\n",
       "      <td id=\"T_bd76f_row3_col1\" class=\"data row3 col1\" >213.09</td>\n",
       "    </tr>\n",
       "    <tr>\n",
       "      <td id=\"T_bd76f_row4_col0\" class=\"data row4 col0\" >Mc Egg Burger for Happy Meal</td>\n",
       "      <td id=\"T_bd76f_row4_col1\" class=\"data row4 col1\" >213.09</td>\n",
       "    </tr>\n",
       "  </tbody>\n",
       "</table>\n"
      ],
      "text/plain": [
       "<pandas.io.formats.style.Styler at 0x1fbb63bf970>"
      ]
     },
     "execution_count": 87,
     "metadata": {},
     "output_type": "execute_result"
    }
   ],
   "source": [
    "df2 = df.nlargest(5,['Cholesterols (mg)'])[['Menu Items','Cholesterols (mg)']]\n",
    "df2.style.hide(axis='index').format(precision=2)"
   ]
  },
  {
   "cell_type": "markdown",
   "id": "c282cfd6",
   "metadata": {},
   "source": [
    "### Most Protein-rich Items"
   ]
  },
  {
   "cell_type": "code",
   "execution_count": 27,
   "id": "ede0a64a",
   "metadata": {
    "scrolled": true
   },
   "outputs": [
    {
     "data": {
      "text/html": [
       "<style type=\"text/css\">\n",
       "</style>\n",
       "<table id=\"T_617bf\">\n",
       "  <thead>\n",
       "    <tr>\n",
       "      <th id=\"T_617bf_level0_col0\" class=\"col_heading level0 col0\" >Menu Category</th>\n",
       "      <th id=\"T_617bf_level0_col1\" class=\"col_heading level0 col1\" >Menu Items</th>\n",
       "      <th id=\"T_617bf_level0_col2\" class=\"col_heading level0 col2\" >Protein (g)</th>\n",
       "    </tr>\n",
       "  </thead>\n",
       "  <tbody>\n",
       "    <tr>\n",
       "      <td id=\"T_617bf_row0_col0\" class=\"data row0 col0\" >Regular Menu</td>\n",
       "      <td id=\"T_617bf_row0_col1\" class=\"data row0 col1\" >Chicken Maharaja Mac</td>\n",
       "      <td id=\"T_617bf_row0_col2\" class=\"data row0 col2\" >34.000000</td>\n",
       "    </tr>\n",
       "    <tr>\n",
       "      <td id=\"T_617bf_row1_col0\" class=\"data row1 col0\" >Gourmet Menu</td>\n",
       "      <td id=\"T_617bf_row1_col1\" class=\"data row1 col1\" >Chunky Chipotle American Burger Chicken</td>\n",
       "      <td id=\"T_617bf_row1_col2\" class=\"data row1 col2\" >39.470000</td>\n",
       "    </tr>\n",
       "    <tr>\n",
       "      <td id=\"T_617bf_row2_col0\" class=\"data row2 col0\" >Gourmet Menu</td>\n",
       "      <td id=\"T_617bf_row2_col1\" class=\"data row2 col1\" >McSpicy Premium Chicken Burger</td>\n",
       "      <td id=\"T_617bf_row2_col2\" class=\"data row2 col2\" >31.490000</td>\n",
       "    </tr>\n",
       "  </tbody>\n",
       "</table>\n"
      ],
      "text/plain": [
       "<pandas.io.formats.style.Styler at 0x1fbabd34670>"
      ]
     },
     "execution_count": 27,
     "metadata": {},
     "output_type": "execute_result"
    }
   ],
   "source": [
    "df1=df[df['Protein (g)']>30.0][['Menu Category','Menu Items','Protein (g)']]\n",
    "df1.style.hide(axis='index')"
   ]
  },
  {
   "cell_type": "markdown",
   "id": "99abd701",
   "metadata": {},
   "source": [
    "### Items with most protein and least cholesterol"
   ]
  },
  {
   "cell_type": "code",
   "execution_count": 60,
   "id": "a9d912b7",
   "metadata": {
    "scrolled": false
   },
   "outputs": [
    {
     "data": {
      "text/html": [
       "<style type=\"text/css\">\n",
       "</style>\n",
       "<table id=\"T_1fe8d\">\n",
       "  <thead>\n",
       "    <tr>\n",
       "      <th id=\"T_1fe8d_level0_col0\" class=\"col_heading level0 col0\" >Menu Category</th>\n",
       "      <th id=\"T_1fe8d_level0_col1\" class=\"col_heading level0 col1\" >Menu Items</th>\n",
       "      <th id=\"T_1fe8d_level0_col2\" class=\"col_heading level0 col2\" >Protein (g)</th>\n",
       "      <th id=\"T_1fe8d_level0_col3\" class=\"col_heading level0 col3\" >Cholesterols (mg)</th>\n",
       "    </tr>\n",
       "  </thead>\n",
       "  <tbody>\n",
       "    <tr>\n",
       "      <td id=\"T_1fe8d_row0_col0\" class=\"data row0 col0\" >Gourmet Menu</td>\n",
       "      <td id=\"T_1fe8d_row0_col1\" class=\"data row0 col1\" >Chunky Chipotle American Burger Chicken</td>\n",
       "      <td id=\"T_1fe8d_row0_col2\" class=\"data row0 col2\" >39.470000</td>\n",
       "      <td id=\"T_1fe8d_row0_col3\" class=\"data row0 col3\" >110.370000</td>\n",
       "    </tr>\n",
       "    <tr>\n",
       "      <td id=\"T_1fe8d_row1_col0\" class=\"data row1 col0\" >Regular Menu</td>\n",
       "      <td id=\"T_1fe8d_row1_col1\" class=\"data row1 col1\" >Chicken Maharaja Mac</td>\n",
       "      <td id=\"T_1fe8d_row1_col2\" class=\"data row1 col2\" >34.000000</td>\n",
       "      <td id=\"T_1fe8d_row1_col3\" class=\"data row1 col3\" >81.490000</td>\n",
       "    </tr>\n",
       "    <tr>\n",
       "      <td id=\"T_1fe8d_row2_col0\" class=\"data row2 col0\" >Gourmet Menu</td>\n",
       "      <td id=\"T_1fe8d_row2_col1\" class=\"data row2 col1\" >McSpicy Premium Chicken Burger</td>\n",
       "      <td id=\"T_1fe8d_row2_col2\" class=\"data row2 col2\" >31.490000</td>\n",
       "      <td id=\"T_1fe8d_row2_col3\" class=\"data row2 col3\" >302.610000</td>\n",
       "    </tr>\n",
       "    <tr>\n",
       "      <td id=\"T_1fe8d_row3_col0\" class=\"data row3 col0\" >Gourmet Menu</td>\n",
       "      <td id=\"T_1fe8d_row3_col1\" class=\"data row3 col1\" >Chicken Cheese Lava Burger</td>\n",
       "      <td id=\"T_1fe8d_row3_col2\" class=\"data row3 col2\" >27.370000</td>\n",
       "      <td id=\"T_1fe8d_row3_col3\" class=\"data row3 col3\" >73.110000</td>\n",
       "    </tr>\n",
       "    <tr>\n",
       "      <td id=\"T_1fe8d_row4_col0\" class=\"data row4 col0\" >Regular Menu</td>\n",
       "      <td id=\"T_1fe8d_row4_col1\" class=\"data row4 col1\" >Ghee Rice with Mc Spicy Fried Chicken 1 pc</td>\n",
       "      <td id=\"T_1fe8d_row4_col2\" class=\"data row4 col2\" >26.910000</td>\n",
       "      <td id=\"T_1fe8d_row4_col3\" class=\"data row4 col3\" >31.320000</td>\n",
       "    </tr>\n",
       "  </tbody>\n",
       "</table>\n"
      ],
      "text/plain": [
       "<pandas.io.formats.style.Styler at 0x1fbb2a389a0>"
      ]
     },
     "execution_count": 60,
     "metadata": {},
     "output_type": "execute_result"
    }
   ],
   "source": [
    "df1 = df.sort_values(['Protein (g)','Cholesterols (mg)'],ascending=False)[['Menu Category','Menu Items','Protein (g)','Cholesterols (mg)']].head(5)\n",
    "df1.style.hide(axis='index')"
   ]
  },
  {
   "cell_type": "markdown",
   "id": "4d99fdab",
   "metadata": {},
   "source": [
    "### Top 5 Energy-rich items"
   ]
  },
  {
   "cell_type": "code",
   "execution_count": 76,
   "id": "cf803829",
   "metadata": {
    "scrolled": false
   },
   "outputs": [
    {
     "data": {
      "text/html": [
       "<style type=\"text/css\">\n",
       "</style>\n",
       "<table id=\"T_dcd57\">\n",
       "  <thead>\n",
       "    <tr>\n",
       "      <th id=\"T_dcd57_level0_col0\" class=\"col_heading level0 col0\" >Menu Items</th>\n",
       "      <th id=\"T_dcd57_level0_col1\" class=\"col_heading level0 col1\" >Energy (kCal)</th>\n",
       "    </tr>\n",
       "  </thead>\n",
       "  <tbody>\n",
       "    <tr>\n",
       "      <td id=\"T_dcd57_row0_col0\" class=\"data row0 col0\" >Chicken Cheese Lava Burger</td>\n",
       "      <td id=\"T_dcd57_row0_col1\" class=\"data row0 col1\" >834.360000</td>\n",
       "    </tr>\n",
       "    <tr>\n",
       "      <td id=\"T_dcd57_row1_col0\" class=\"data row1 col0\" >Veg Maharaja Mac</td>\n",
       "      <td id=\"T_dcd57_row1_col1\" class=\"data row1 col1\" >832.670000</td>\n",
       "    </tr>\n",
       "    <tr>\n",
       "      <td id=\"T_dcd57_row2_col0\" class=\"data row2 col0\" >Ghee Rice with Mc Spicy Fried Chicken 1 pc</td>\n",
       "      <td id=\"T_dcd57_row2_col1\" class=\"data row2 col1\" >720.300000</td>\n",
       "    </tr>\n",
       "    <tr>\n",
       "      <td id=\"T_dcd57_row3_col0\" class=\"data row3 col0\" >Chicken Maharaja Mac</td>\n",
       "      <td id=\"T_dcd57_row3_col1\" class=\"data row3 col1\" >689.120000</td>\n",
       "    </tr>\n",
       "    <tr>\n",
       "      <td id=\"T_dcd57_row4_col0\" class=\"data row4 col0\" >Spicy Paneer Wrap</td>\n",
       "      <td id=\"T_dcd57_row4_col1\" class=\"data row4 col1\" >674.680000</td>\n",
       "    </tr>\n",
       "  </tbody>\n",
       "</table>\n"
      ],
      "text/plain": [
       "<pandas.io.formats.style.Styler at 0x1fbb63bc2b0>"
      ]
     },
     "execution_count": 76,
     "metadata": {},
     "output_type": "execute_result"
    }
   ],
   "source": [
    "df1 = df.nlargest(5,['Energy (kCal)'])[['Menu Items','Energy (kCal)']]\n",
    "df1.style.hide(axis='index')"
   ]
  },
  {
   "cell_type": "markdown",
   "id": "3a87e005",
   "metadata": {},
   "source": [
    "### Best items to consume [Most Protein | Least Cholesterol | Total Fat ]"
   ]
  },
  {
   "cell_type": "code",
   "execution_count": 91,
   "id": "388aeda1",
   "metadata": {
    "scrolled": true
   },
   "outputs": [
    {
     "data": {
      "text/html": [
       "<style type=\"text/css\">\n",
       "</style>\n",
       "<table id=\"T_813e8\">\n",
       "  <thead>\n",
       "    <tr>\n",
       "      <th id=\"T_813e8_level0_col0\" class=\"col_heading level0 col0\" >Menu Items</th>\n",
       "      <th id=\"T_813e8_level0_col1\" class=\"col_heading level0 col1\" >Protein (g)</th>\n",
       "      <th id=\"T_813e8_level0_col2\" class=\"col_heading level0 col2\" >Cholesterols (mg)</th>\n",
       "      <th id=\"T_813e8_level0_col3\" class=\"col_heading level0 col3\" >Total fat (g)</th>\n",
       "    </tr>\n",
       "  </thead>\n",
       "  <tbody>\n",
       "    <tr>\n",
       "      <td id=\"T_813e8_row0_col0\" class=\"data row0 col0\" >Chunky Chipotle American Burger Chicken</td>\n",
       "      <td id=\"T_813e8_row0_col1\" class=\"data row0 col1\" >39.47</td>\n",
       "      <td id=\"T_813e8_row0_col2\" class=\"data row0 col2\" >110.37</td>\n",
       "      <td id=\"T_813e8_row0_col3\" class=\"data row0 col3\" >31.51</td>\n",
       "    </tr>\n",
       "    <tr>\n",
       "      <td id=\"T_813e8_row1_col0\" class=\"data row1 col0\" >Chicken Maharaja Mac</td>\n",
       "      <td id=\"T_813e8_row1_col1\" class=\"data row1 col1\" >34.00</td>\n",
       "      <td id=\"T_813e8_row1_col2\" class=\"data row1 col2\" >81.49</td>\n",
       "      <td id=\"T_813e8_row1_col3\" class=\"data row1 col3\" >36.69</td>\n",
       "    </tr>\n",
       "    <tr>\n",
       "      <td id=\"T_813e8_row2_col0\" class=\"data row2 col0\" >McSpicy Premium Chicken Burger</td>\n",
       "      <td id=\"T_813e8_row2_col1\" class=\"data row2 col1\" >31.49</td>\n",
       "      <td id=\"T_813e8_row2_col2\" class=\"data row2 col2\" >302.61</td>\n",
       "      <td id=\"T_813e8_row2_col3\" class=\"data row2 col3\" >34.65</td>\n",
       "    </tr>\n",
       "    <tr>\n",
       "      <td id=\"T_813e8_row3_col0\" class=\"data row3 col0\" >Chicken Cheese Lava Burger</td>\n",
       "      <td id=\"T_813e8_row3_col1\" class=\"data row3 col1\" >27.37</td>\n",
       "      <td id=\"T_813e8_row3_col2\" class=\"data row3 col2\" >73.11</td>\n",
       "      <td id=\"T_813e8_row3_col3\" class=\"data row3 col3\" >45.18</td>\n",
       "    </tr>\n",
       "    <tr>\n",
       "      <td id=\"T_813e8_row4_col0\" class=\"data row4 col0\" >Ghee Rice with Mc Spicy Fried Chicken 1 pc</td>\n",
       "      <td id=\"T_813e8_row4_col1\" class=\"data row4 col1\" >26.91</td>\n",
       "      <td id=\"T_813e8_row4_col2\" class=\"data row4 col2\" >31.32</td>\n",
       "      <td id=\"T_813e8_row4_col3\" class=\"data row4 col3\" >29.20</td>\n",
       "    </tr>\n",
       "  </tbody>\n",
       "</table>\n"
      ],
      "text/plain": [
       "<pandas.io.formats.style.Styler at 0x1fbb63ff3d0>"
      ]
     },
     "execution_count": 91,
     "metadata": {},
     "output_type": "execute_result"
    }
   ],
   "source": [
    "df1 = df.sort_values(by=['Protein (g)','Cholesterols (mg)','Total fat (g)'],ascending=[False,True,True])\n",
    "df1[['Menu Items','Protein (g)','Cholesterols (mg)','Total fat (g)']].head(5).style.hide(axis='index').format(precision=2)"
   ]
  },
  {
   "cell_type": "markdown",
   "id": "98aee83a",
   "metadata": {},
   "source": [
    "### Energetic Drinks with Least Sugar"
   ]
  },
  {
   "cell_type": "code",
   "execution_count": 85,
   "id": "f362c802",
   "metadata": {
    "scrolled": true
   },
   "outputs": [
    {
     "data": {
      "text/html": [
       "<style type=\"text/css\">\n",
       "</style>\n",
       "<table id=\"T_40d8a\">\n",
       "  <thead>\n",
       "    <tr>\n",
       "      <th id=\"T_40d8a_level0_col0\" class=\"col_heading level0 col0\" >Menu Items</th>\n",
       "      <th id=\"T_40d8a_level0_col1\" class=\"col_heading level0 col1\" >Energy (kCal)</th>\n",
       "      <th id=\"T_40d8a_level0_col2\" class=\"col_heading level0 col2\" >Total Sugars (g)</th>\n",
       "    </tr>\n",
       "  </thead>\n",
       "  <tbody>\n",
       "    <tr>\n",
       "      <td id=\"T_40d8a_row0_col0\" class=\"data row0 col0\" >Chocolate Oreo Frappe</td>\n",
       "      <td id=\"T_40d8a_row0_col1\" class=\"data row0 col1\" >481.11</td>\n",
       "      <td id=\"T_40d8a_row0_col2\" class=\"data row0 col2\" >55.14</td>\n",
       "    </tr>\n",
       "    <tr>\n",
       "      <td id=\"T_40d8a_row1_col0\" class=\"data row1 col0\" >American Mud Pie Shake</td>\n",
       "      <td id=\"T_40d8a_row1_col1\" class=\"data row1 col1\" >398.19</td>\n",
       "      <td id=\"T_40d8a_row1_col2\" class=\"data row1 col2\" >53.40</td>\n",
       "    </tr>\n",
       "    <tr>\n",
       "      <td id=\"T_40d8a_row2_col0\" class=\"data row2 col0\" >Mocha Frappe</td>\n",
       "      <td id=\"T_40d8a_row2_col1\" class=\"data row2 col1\" >397.98</td>\n",
       "      <td id=\"T_40d8a_row2_col2\" class=\"data row2 col2\" >47.55</td>\n",
       "    </tr>\n",
       "    <tr>\n",
       "      <td id=\"T_40d8a_row3_col0\" class=\"data row3 col0\" >Hot Chocolate (L)</td>\n",
       "      <td id=\"T_40d8a_row3_col1\" class=\"data row3 col1\" >383.29</td>\n",
       "      <td id=\"T_40d8a_row3_col2\" class=\"data row3 col2\" >47.96</td>\n",
       "    </tr>\n",
       "    <tr>\n",
       "      <td id=\"T_40d8a_row4_col0\" class=\"data row4 col0\" >Cold Coffee Frappe</td>\n",
       "      <td id=\"T_40d8a_row4_col1\" class=\"data row4 col1\" >331.17</td>\n",
       "      <td id=\"T_40d8a_row4_col2\" class=\"data row4 col2\" >35.57</td>\n",
       "    </tr>\n",
       "  </tbody>\n",
       "</table>\n"
      ],
      "text/plain": [
       "<pandas.io.formats.style.Styler at 0x1fbb63c45e0>"
      ]
     },
     "execution_count": 85,
     "metadata": {},
     "output_type": "execute_result"
    }
   ],
   "source": [
    "df1 = df[df['Per Serve Size'].str.contains('ml')][['Menu Items','Energy (kCal)','Total Sugars (g)']]\n",
    "df2 = df1.sort_values(by=['Energy (kCal)','Total Sugars (g)'],ascending=[False,True]).head(5)\n",
    "df2.style.hide(axis='index').format(precision=2)"
   ]
  },
  {
   "cell_type": "markdown",
   "id": "15c559f3",
   "metadata": {},
   "source": [
    "### Options for Tea in McDonald's"
   ]
  },
  {
   "cell_type": "code",
   "execution_count": 68,
   "id": "d79bdd0d",
   "metadata": {},
   "outputs": [
    {
     "data": {
      "text/html": [
       "<style type=\"text/css\">\n",
       "</style>\n",
       "<table id=\"T_ca903\">\n",
       "  <thead>\n",
       "    <tr>\n",
       "      <th id=\"T_ca903_level0_col0\" class=\"col_heading level0 col0\" >Menu Category</th>\n",
       "      <th id=\"T_ca903_level0_col1\" class=\"col_heading level0 col1\" >Menu Items</th>\n",
       "      <th id=\"T_ca903_level0_col2\" class=\"col_heading level0 col2\" >Per Serve Size</th>\n",
       "    </tr>\n",
       "  </thead>\n",
       "  <tbody>\n",
       "    <tr>\n",
       "      <td id=\"T_ca903_row0_col0\" class=\"data row0 col0\" >McCafe Menu</td>\n",
       "      <td id=\"T_ca903_row0_col1\" class=\"data row0 col1\" >Moroccon Mint Green Tea (S)</td>\n",
       "      <td id=\"T_ca903_row0_col2\" class=\"data row0 col2\" >279 ml</td>\n",
       "    </tr>\n",
       "    <tr>\n",
       "      <td id=\"T_ca903_row1_col0\" class=\"data row1 col0\" >McCafe Menu</td>\n",
       "      <td id=\"T_ca903_row1_col1\" class=\"data row1 col1\" >Moroccon Mint Green Tea (R)</td>\n",
       "      <td id=\"T_ca903_row1_col2\" class=\"data row1 col2\" >330 ml</td>\n",
       "    </tr>\n",
       "    <tr>\n",
       "      <td id=\"T_ca903_row2_col0\" class=\"data row2 col0\" >McCafe Menu</td>\n",
       "      <td id=\"T_ca903_row2_col1\" class=\"data row2 col1\" >Moroccon Mint Green Tea (L)</td>\n",
       "      <td id=\"T_ca903_row2_col2\" class=\"data row2 col2\" >456 ml</td>\n",
       "    </tr>\n",
       "    <tr>\n",
       "      <td id=\"T_ca903_row3_col0\" class=\"data row3 col0\" >McCafe Menu</td>\n",
       "      <td id=\"T_ca903_row3_col1\" class=\"data row3 col1\" >Strawberry Green Tea (S)</td>\n",
       "      <td id=\"T_ca903_row3_col2\" class=\"data row3 col2\" >279 ml</td>\n",
       "    </tr>\n",
       "    <tr>\n",
       "      <td id=\"T_ca903_row4_col0\" class=\"data row4 col0\" >McCafe Menu</td>\n",
       "      <td id=\"T_ca903_row4_col1\" class=\"data row4 col1\" >Strawberry Green Tea (R)</td>\n",
       "      <td id=\"T_ca903_row4_col2\" class=\"data row4 col2\" >330 ml</td>\n",
       "    </tr>\n",
       "    <tr>\n",
       "      <td id=\"T_ca903_row5_col0\" class=\"data row5 col0\" >McCafe Menu</td>\n",
       "      <td id=\"T_ca903_row5_col1\" class=\"data row5 col1\" >Strawberry Green Tea (L)</td>\n",
       "      <td id=\"T_ca903_row5_col2\" class=\"data row5 col2\" >456 ml</td>\n",
       "    </tr>\n",
       "    <tr>\n",
       "      <td id=\"T_ca903_row6_col0\" class=\"data row6 col0\" >McCafe Menu</td>\n",
       "      <td id=\"T_ca903_row6_col1\" class=\"data row6 col1\" >Lemon Ice Tea</td>\n",
       "      <td id=\"T_ca903_row6_col2\" class=\"data row6 col2\" >245 ml</td>\n",
       "    </tr>\n",
       "    <tr>\n",
       "      <td id=\"T_ca903_row7_col0\" class=\"data row7 col0\" >McCafe Menu</td>\n",
       "      <td id=\"T_ca903_row7_col1\" class=\"data row7 col1\" >Strawberry Ice Tea</td>\n",
       "      <td id=\"T_ca903_row7_col2\" class=\"data row7 col2\" >236.5 ml</td>\n",
       "    </tr>\n",
       "    <tr>\n",
       "      <td id=\"T_ca903_row8_col0\" class=\"data row8 col0\" >McCafe Menu</td>\n",
       "      <td id=\"T_ca903_row8_col1\" class=\"data row8 col1\" >Green Apple Ice Tea</td>\n",
       "      <td id=\"T_ca903_row8_col2\" class=\"data row8 col2\" >236.5 ml</td>\n",
       "    </tr>\n",
       "  </tbody>\n",
       "</table>\n"
      ],
      "text/plain": [
       "<pandas.io.formats.style.Styler at 0x1fbb3ce4ee0>"
      ]
     },
     "execution_count": 68,
     "metadata": {},
     "output_type": "execute_result"
    }
   ],
   "source": [
    "df1 = df.loc[df['Menu Category'].str.contains('McCafe') & df['Menu Items'].str.contains('Tea')][['Menu Category','Menu Items','Per Serve Size']]\n",
    "df1.style.hide(axis='index')"
   ]
  },
  {
   "cell_type": "code",
   "execution_count": null,
   "id": "717def8a",
   "metadata": {},
   "outputs": [],
   "source": []
  }
 ],
 "metadata": {
  "kernelspec": {
   "display_name": "Python 3 (ipykernel)",
   "language": "python",
   "name": "python3"
  },
  "language_info": {
   "codemirror_mode": {
    "name": "ipython",
    "version": 3
   },
   "file_extension": ".py",
   "mimetype": "text/x-python",
   "name": "python",
   "nbconvert_exporter": "python",
   "pygments_lexer": "ipython3",
   "version": "3.9.12"
  }
 },
 "nbformat": 4,
 "nbformat_minor": 5
}
